{
 "cells": [
  {
   "cell_type": "code",
   "execution_count": null,
   "metadata": {},
   "outputs": [],
   "source": [
    "import pandas as pd"
   ]
  },
  {
   "cell_type": "markdown",
   "metadata": {},
   "source": [
    "##### Importing data from csv and excel"
   ]
  },
  {
   "cell_type": "code",
   "execution_count": null,
   "metadata": {
    "scrolled": true
   },
   "outputs": [],
   "source": [
    "stk = pd.read_csv('survey.csv', index_col = 'Respondent') \n",
    "#Replace the default index column with the column from the dataframe\n",
    "schema = pd.read_csv('schema.csv')"
   ]
  },
  {
   "cell_type": "markdown",
   "metadata": {},
   "source": [
    "##### Create another dataframe which copies the values"
   ]
  },
  {
   "cell_type": "code",
   "execution_count": null,
   "metadata": {},
   "outputs": [],
   "source": [
    "stk.info(memory_usage=\"deep\")"
   ]
  },
  {
   "cell_type": "code",
   "execution_count": null,
   "metadata": {},
   "outputs": [],
   "source": [
    "stk1 = stk.copy()"
   ]
  },
  {
   "cell_type": "markdown",
   "metadata": {},
   "source": [
    "##### Mathematical summary of the dataframe"
   ]
  },
  {
   "cell_type": "code",
   "execution_count": null,
   "metadata": {},
   "outputs": [],
   "source": [
    "#stk.describe(include='all')\n",
    "stk.describe()"
   ]
  },
  {
   "cell_type": "code",
   "execution_count": null,
   "metadata": {
    "scrolled": true
   },
   "outputs": [],
   "source": [
    "#stk[\"Age\"].apply(lambda x: )\n",
    "stk"
   ]
  },
  {
   "cell_type": "markdown",
   "metadata": {},
   "source": [
    "##### Reset  and set index of a dataframe"
   ]
  },
  {
   "cell_type": "code",
   "execution_count": null,
   "metadata": {},
   "outputs": [],
   "source": [
    "stk.reset_index(inplace=True)"
   ]
  },
  {
   "cell_type": "code",
   "execution_count": null,
   "metadata": {},
   "outputs": [],
   "source": [
    "stk1.set_index(\"Respondent\",inplace=True)"
   ]
  },
  {
   "cell_type": "markdown",
   "metadata": {},
   "source": [
    "##### To set the limit of number of columns and rows to be displayed in a dataframe"
   ]
  },
  {
   "cell_type": "code",
   "execution_count": null,
   "metadata": {},
   "outputs": [],
   "source": [
    "pd.set_option('display.max_columns',85)\n",
    "pd.set_option('display.max_row',300)\n",
    "#This is a generic configuration applied to all dataframes "
   ]
  },
  {
   "cell_type": "markdown",
   "metadata": {},
   "source": [
    "##### Sorting the dataframe based on a column"
   ]
  },
  {
   "cell_type": "code",
   "execution_count": null,
   "metadata": {},
   "outputs": [],
   "source": [
    "schema = schema.sort_values('Column').reset_index(drop=True)\n",
    "#Drop = True to ensure the old index doesnt get added as a new column in the dataframe"
   ]
  },
  {
   "cell_type": "markdown",
   "metadata": {},
   "source": [
    "##### Renaming the column names"
   ]
  },
  {
   "cell_type": "code",
   "execution_count": null,
   "metadata": {},
   "outputs": [],
   "source": [
    "#passing the list of column names to replace the existing column names\n",
    "schema.columns = ['Category','Description']\n",
    "schema.rename(columns = {'Description':'Desc'} ,inplace=True)\n",
    "stk.rename(columns = {'ConvertedComp':'Salary_USD'},inplace=True)\n",
    "#inplace=True - To ensure the changes are directly reflected in the dataframe without the assignment operator "
   ]
  },
  {
   "cell_type": "markdown",
   "metadata": {},
   "source": [
    "##### Filtering rows and columns"
   ]
  },
  {
   "cell_type": "markdown",
   "metadata": {},
   "source": [
    "##### Using integer location - iloc"
   ]
  },
  {
   "cell_type": "code",
   "execution_count": null,
   "metadata": {},
   "outputs": [],
   "source": [
    "schema.iloc[0]\n",
    "schema.iloc[0:2] #The range in iloc is not inclusive of the end number - 0:2 is not inclusive of 2nd index \n",
    "schema.iloc[0:2, 0:1]"
   ]
  },
  {
   "cell_type": "markdown",
   "metadata": {},
   "source": [
    "##### Using location - loc"
   ]
  },
  {
   "cell_type": "code",
   "execution_count": null,
   "metadata": {},
   "outputs": [],
   "source": [
    "schema.loc[1]\n",
    "schema.loc[0:2] #The range in loc is inclusive of the end number - 0:2 includes the 2nd index as well\n",
    "schema.loc[0:2,'Category']\n",
    "stk.loc[0:2,['Respondent','Hobbyist']]\n",
    "stk.loc[0:2,'Respondent':'Hobbyist']  #Can also specify the range of values for columns by using their names"
   ]
  },
  {
   "cell_type": "code",
   "execution_count": null,
   "metadata": {},
   "outputs": [],
   "source": [
    "stk.loc[:,'Country'].mode()"
   ]
  },
  {
   "cell_type": "code",
   "execution_count": null,
   "metadata": {},
   "outputs": [],
   "source": [
    "schema.apply(len)"
   ]
  },
  {
   "cell_type": "markdown",
   "metadata": {},
   "source": [
    "##### Nested loc condition"
   ]
  },
  {
   "cell_type": "code",
   "execution_count": null,
   "metadata": {},
   "outputs": [],
   "source": [
    "schema.loc[schema.loc[:,'Category'].str.len()>10,'Category']"
   ]
  },
  {
   "cell_type": "markdown",
   "metadata": {},
   "source": [
    "##### Using apply and lambda "
   ]
  },
  {
   "cell_type": "code",
   "execution_count": null,
   "metadata": {},
   "outputs": [],
   "source": [
    "schema.loc[:,'Category'].apply(len)\n",
    "schema.loc[:,'Category'].apply(lambda x: len(x))\n",
    "\n",
    "#When we pass as list of columns then we no longer get individual value's length using apply function\n",
    "\n",
    "schema.loc[:,['Category','Desc']].apply(len,axis=1)\n",
    "schema.apply(len, axis=0)\n",
    "\n",
    "# axis = 1 is for columns and axis = 0 is for rows\n",
    "\n",
    "schema.apply(pd.Series.min)\n",
    "schema.apply(lambda x: x.min())"
   ]
  },
  {
   "cell_type": "markdown",
   "metadata": {},
   "source": [
    "#####  ApplyMap"
   ]
  },
  {
   "cell_type": "code",
   "execution_count": null,
   "metadata": {},
   "outputs": [],
   "source": [
    "schema.applymap(len)\n",
    "#Only works on dataframes and not on series"
   ]
  },
  {
   "cell_type": "markdown",
   "metadata": {},
   "source": [
    "#### Map and Replace values using dictionary "
   ]
  },
  {
   "cell_type": "code",
   "execution_count": null,
   "metadata": {},
   "outputs": [],
   "source": [
    "#schema.loc[:,'Category'].map({'Age':'Years','BetterLife':'Better_Life'})\n",
    "stk.loc[:,'Hobbyist'].map({'Yes':1,'No':0})\n",
    "# Map makes all the non-matching values as NaN\n",
    "\n",
    "\n",
    "#schema.loc[:,'Category'].replace({'Age':'Years','BetterLife':'Better_Life'})\n",
    "#Replace only checks for the matching values and replaces them with the new value"
   ]
  },
  {
   "cell_type": "markdown",
   "metadata": {},
   "source": [
    "##### Changing data caps "
   ]
  },
  {
   "cell_type": "code",
   "execution_count": null,
   "metadata": {
    "scrolled": false
   },
   "outputs": [],
   "source": [
    "schema.loc[:,'Category'].str.upper() \n",
    "schema.loc[:,'Category'].str.lower()\n",
    "schema.loc[:,'Category'].str.capitalize()"
   ]
  },
  {
   "cell_type": "markdown",
   "metadata": {},
   "source": [
    "###### Value count to count the number of unique values"
   ]
  },
  {
   "cell_type": "code",
   "execution_count": null,
   "metadata": {},
   "outputs": [],
   "source": [
    "temp = pd.DataFrame(stk['Hobbyist'].value_counts(normalize=True))\n",
    "temp"
   ]
  },
  {
   "cell_type": "markdown",
   "metadata": {},
   "source": [
    "##### Counting a substring occurances in a column"
   ]
  },
  {
   "cell_type": "code",
   "execution_count": null,
   "metadata": {},
   "outputs": [],
   "source": [
    "stk[stk.loc[:,'Country'] =='India']['LanguageWorkedWith'].str.contains('Python').sum()"
   ]
  },
  {
   "cell_type": "markdown",
   "metadata": {},
   "source": [
    "##### Sorting columns"
   ]
  },
  {
   "cell_type": "code",
   "execution_count": null,
   "metadata": {},
   "outputs": [],
   "source": [
    "cols = stk.columns.tolist()\n",
    "cols.sort()\n",
    "cols\n",
    "stk = stk[cols]"
   ]
  },
  {
   "cell_type": "code",
   "execution_count": null,
   "metadata": {},
   "outputs": [],
   "source": [
    "stk.sort_values(axis=0, by =\"Country\", ignore_index=True, inplace=True)"
   ]
  },
  {
   "cell_type": "code",
   "execution_count": null,
   "metadata": {},
   "outputs": [],
   "source": [
    "stk_country = stk.groupby('Country')\n",
    "stk_country['SocialMedia'].value_counts()"
   ]
  },
  {
   "cell_type": "code",
   "execution_count": null,
   "metadata": {},
   "outputs": [],
   "source": [
    "temp = stk.loc[stk.loc[:,'LanguageWorkedWith'].notnull()]\n",
    "temp = temp.loc[:,['Country','LanguageWorkedWith']]\n",
    "python_users = temp.groupby('Country')['LanguageWorkedWith'].apply(lambda x: x.str.contains('Python').sum())\n",
    "\n",
    "temp = stk.loc[:, 'Country'].value_counts()\n",
    "temp\n",
    "\n",
    "final = pd.DataFrame(python_users/temp)\n",
    "final.reset_index(inplace=True)\n",
    "final = final.sort_values(0,ascending=False)\n",
    "final.set_index('index', inplace=True)\n",
    "final.lhttp://localhost:8888/notebooks/Pandas%20Learning.ipynb#oc['Australia']\n",
    "final"
   ]
  },
  {
   "cell_type": "code",
   "execution_count": null,
   "metadata": {},
   "outputs": [],
   "source": [
    "temp = stk.groupby('Country')\n",
    "temp['LanguageWorkedWith'].apply(lambda x: x.str.contains('Python').sum())"
   ]
  },
  {
   "cell_type": "markdown",
   "metadata": {},
   "source": [
    "## Handling missing values"
   ]
  },
  {
   "cell_type": "markdown",
   "metadata": {},
   "source": [
    "##### Counting the number of missing values in each columns: "
   ]
  },
  {
   "cell_type": "code",
   "execution_count": null,
   "metadata": {},
   "outputs": [],
   "source": [
    "#axis = 0 to sum column wise data which is the default parameter\n",
    "stk.isnull().sum(axis=0)"
   ]
  },
  {
   "cell_type": "markdown",
   "metadata": {},
   "source": [
    "##### Filter rows which have less than 5 missing values"
   ]
  },
  {
   "cell_type": "code",
   "execution_count": null,
   "metadata": {},
   "outputs": [],
   "source": [
    "stk1[stk1.isnull().sum(axis=1)<5]"
   ]
  },
  {
   "cell_type": "code",
   "execution_count": null,
   "metadata": {},
   "outputs": [],
   "source": [
    "print(pd.__version__, \"\\n \\n\")\n",
    "print(pd.show_versions())"
   ]
  },
  {
   "cell_type": "code",
   "execution_count": null,
   "metadata": {},
   "outputs": [],
   "source": []
  }
 ],
 "metadata": {
  "kernelspec": {
   "display_name": "Python 3",
   "language": "python",
   "name": "python3"
  },
  "language_info": {
   "codemirror_mode": {
    "name": "ipython",
    "version": 3
   },
   "file_extension": ".py",
   "mimetype": "text/x-python",
   "name": "python",
   "nbconvert_exporter": "python",
   "pygments_lexer": "ipython3",
   "version": "3.7.7"
  }
 },
 "nbformat": 4,
 "nbformat_minor": 4
}
